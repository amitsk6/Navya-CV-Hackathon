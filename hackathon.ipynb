{
 "cells": [
  {
   "cell_type": "code",
   "execution_count": null,
   "metadata": {},
   "outputs": [],
   "source": [
    "import numpy as np\n",
    "import os\n",
    "from matplotlib import pyplot as plt\n",
    "import cv2\n",
    "import random\n",
    "import pickle\n",
    "import tensorflow as tf \n",
    "from tensorflow.keras.models import Sequential\n",
    "from tensorflow.keras.layers import Dense, Dropout, Activation, Flatten, Conv2D, MaxPooling2D,LeakyReLU\n",
    "import pickle\n",
    "from keras.models import model_from_json\n",
    "from keras.models import load_model\n",
    "import matplotlib.pyplot as plt\n"
   ]
  },
  {
   "cell_type": "code",
   "execution_count": 2,
   "metadata": {},
   "outputs": [],
   "source": [
    "file_list = []\n",
    "class_list = []\n",
    "\n",
    "\n"
   ]
  },
  {
   "cell_type": "code",
   "execution_count": 3,
   "metadata": {},
   "outputs": [],
   "source": [
    "DATADIR = 'Documents/data1/train'\n",
    "CATEGORIES = ['banana','cat','palm']"
   ]
  },
  {
   "cell_type": "code",
   "execution_count": 4,
   "metadata": {},
   "outputs": [],
   "source": [
    "IMG_SIZE = 90\n",
    "\n",
    "for category in CATEGORIES :\n",
    "\tpath = os.path.join(DATADIR, category)\n",
    "\tfor img in os.listdir(path):\n",
    "            img_array = cv2.imread(os.path.join(path, img), cv2.IMREAD_GRAYSCALE)\n",
    "            \n",
    "training_data = []"
   ]
  },
  {
   "cell_type": "code",
   "execution_count": 5,
   "metadata": {},
   "outputs": [],
   "source": [
    "def create_training_data():\n",
    "\tfor category in CATEGORIES :\n",
    "\t\tpath = os.path.join(DATADIR, category)\n",
    "\t\tclass_num = CATEGORIES.index(category)\n",
    "\t\tfor img in os.listdir(path):\n",
    "\t\t\ttry :\n",
    "\t\t\t\timg_array = cv2.imread(os.path.join(path, img),cv2.IMREAD_GRAYSCALE)\n",
    "\t\t\t\tnew_array = cv2.resize(img_array, (IMG_SIZE, IMG_SIZE))\n",
    "\t\t\t\ttraining_data.append([new_array, class_num])\n",
    "\t\t\texcept Exception as e:\n",
    "\t\t\t\tpass\n",
    "\n",
    "create_training_data()"
   ]
  },
  {
   "cell_type": "code",
   "execution_count": 6,
   "metadata": {},
   "outputs": [],
   "source": [
    "\n",
    "\n",
    "random.shuffle(training_data)\n",
    "\n",
    "X = [] #features\n",
    "y = [] #labels\n",
    "\n",
    "for features, label in training_data:\n",
    "\tX.append(features)\n",
    "\ty.append(label)\n",
    "\n",
    "X = np.array(X).reshape(-1, IMG_SIZE, IMG_SIZE, 1)\n",
    "y=np.array(y)\n"
   ]
  },
  {
   "cell_type": "code",
   "execution_count": 7,
   "metadata": {},
   "outputs": [],
   "source": [
    "pickle_out = open(\"X.pickle\", \"wb\")\n",
    "pickle.dump(X, pickle_out)\n",
    "pickle_out.close()\n",
    "\n",
    "pickle_out = open(\"y.pickle\", \"wb\")\n",
    "pickle.dump(y, pickle_out)\n",
    "pickle_out.close()\n",
    "\n",
    "pickle_in = open(\"X.pickle\", \"rb\")\n",
    "X = pickle.load(pickle_in)"
   ]
  },
  {
   "cell_type": "code",
   "execution_count": null,
   "metadata": {},
   "outputs": [],
   "source": []
  },
  {
   "cell_type": "code",
   "execution_count": 8,
   "metadata": {},
   "outputs": [],
   "source": [
    "X = pickle.load(open(\"X.pickle\", \"rb\"))\n",
    "y = pickle.load(open(\"y.pickle\", \"rb\"))\n",
    "X = X/255.0\n",
    "\n"
   ]
  },
  {
   "cell_type": "code",
   "execution_count": 9,
   "metadata": {},
   "outputs": [
    {
     "name": "stdout",
     "output_type": "stream",
     "text": [
      "Model: \"sequential\"\n",
      "_________________________________________________________________\n",
      "Layer (type)                 Output Shape              Param #   \n",
      "=================================================================\n",
      "conv2d (Conv2D)              (None, 88, 88, 32)        320       \n",
      "_________________________________________________________________\n",
      "leaky_re_lu (LeakyReLU)      (None, 88, 88, 32)        0         \n",
      "_________________________________________________________________\n",
      "max_pooling2d (MaxPooling2D) (None, 44, 44, 32)        0         \n",
      "_________________________________________________________________\n",
      "conv2d_1 (Conv2D)            (None, 42, 42, 64)        18496     \n",
      "_________________________________________________________________\n",
      "leaky_re_lu_1 (LeakyReLU)    (None, 42, 42, 64)        0         \n",
      "_________________________________________________________________\n",
      "max_pooling2d_1 (MaxPooling2 (None, 21, 21, 64)        0         \n",
      "_________________________________________________________________\n",
      "conv2d_2 (Conv2D)            (None, 19, 19, 64)        36928     \n",
      "_________________________________________________________________\n",
      "leaky_re_lu_2 (LeakyReLU)    (None, 19, 19, 64)        0         \n",
      "_________________________________________________________________\n",
      "max_pooling2d_2 (MaxPooling2 (None, 9, 9, 64)          0         \n",
      "_________________________________________________________________\n",
      "dropout (Dropout)            (None, 9, 9, 64)          0         \n",
      "_________________________________________________________________\n",
      "flatten (Flatten)            (None, 5184)              0         \n",
      "_________________________________________________________________\n",
      "dense (Dense)                (None, 64)                331840    \n",
      "_________________________________________________________________\n",
      "leaky_re_lu_3 (LeakyReLU)    (None, 64)                0         \n",
      "_________________________________________________________________\n",
      "dense_1 (Dense)              (None, 3)                 195       \n",
      "_________________________________________________________________\n",
      "activation (Activation)      (None, 3)                 0         \n",
      "=================================================================\n",
      "Total params: 387,779\n",
      "Trainable params: 387,779\n",
      "Non-trainable params: 0\n",
      "_________________________________________________________________\n"
     ]
    }
   ],
   "source": [
    "model = Sequential()\n",
    "# 3 convolutional layers\n",
    "model.add(Conv2D(32, (3, 3), input_shape = X.shape[1:]))\n",
    "model.add(LeakyReLU())\n",
    "model.add(MaxPooling2D(pool_size=(2,2)))\n",
    "\n",
    "model.add(Conv2D(64, (3, 3)))\n",
    "model.add(LeakyReLU())\n",
    "model.add(MaxPooling2D(pool_size=(2,2)))\n",
    "\n",
    "model.add(Conv2D(64, (3, 3)))\n",
    "model.add(LeakyReLU())\n",
    "model.add(MaxPooling2D(pool_size=(2,2)))\n",
    "model.add(Dropout(0.25))\n",
    "\n",
    "# 2 hidden layers\n",
    "model.add(Flatten())\n",
    "model.add(Dense(64))\n",
    "model.add(LeakyReLU())\n",
    "\n",
    "#model.add(Dense(64))\n",
    "#model.add(LeakyReLU())\n",
    "\n",
    "# The output layer with 13 neurons, for 13 classes\n",
    "model.add(Dense(3))\n",
    "model.add(Activation(\"softmax\"))\n",
    "model.summary()"
   ]
  },
  {
   "cell_type": "code",
   "execution_count": 10,
   "metadata": {},
   "outputs": [],
   "source": [
    "model.compile(loss=\"sparse_categorical_crossentropy\",\n",
    "\t\t\t\toptimizer=\"adam\",\n",
    "\t\t\t\tmetrics=[\"accuracy\"])\n"
   ]
  },
  {
   "cell_type": "code",
   "execution_count": 11,
   "metadata": {},
   "outputs": [
    {
     "name": "stdout",
     "output_type": "stream",
     "text": [
      "Train on 100 samples, validate on 26 samples\n",
      "Epoch 1/15\n",
      "100/100 [==============================] - 4s 44ms/sample - loss: 1.1417 - accuracy: 0.3000 - val_loss: 1.0180 - val_accuracy: 0.4615\n",
      "Epoch 2/15\n",
      "100/100 [==============================] - 2s 17ms/sample - loss: 1.0246 - accuracy: 0.4500 - val_loss: 0.8293 - val_accuracy: 0.5769\n",
      "Epoch 3/15\n",
      "100/100 [==============================] - 2s 17ms/sample - loss: 0.9257 - accuracy: 0.5500 - val_loss: 0.8071 - val_accuracy: 0.5385\n",
      "Epoch 4/15\n",
      "100/100 [==============================] - 2s 17ms/sample - loss: 0.8572 - accuracy: 0.6400 - val_loss: 0.9338 - val_accuracy: 0.5769\n",
      "Epoch 5/15\n",
      "100/100 [==============================] - 2s 16ms/sample - loss: 0.7089 - accuracy: 0.6900 - val_loss: 0.9358 - val_accuracy: 0.6923\n",
      "Epoch 6/15\n",
      "100/100 [==============================] - 2s 17ms/sample - loss: 0.6349 - accuracy: 0.7600 - val_loss: 0.8553 - val_accuracy: 0.6154\n",
      "Epoch 7/15\n",
      "100/100 [==============================] - 2s 16ms/sample - loss: 0.4803 - accuracy: 0.8200 - val_loss: 0.8604 - val_accuracy: 0.5385\n",
      "Epoch 8/15\n",
      "100/100 [==============================] - 2s 16ms/sample - loss: 0.3822 - accuracy: 0.8600 - val_loss: 0.7038 - val_accuracy: 0.6538\n",
      "Epoch 9/15\n",
      "100/100 [==============================] - 2s 17ms/sample - loss: 0.2795 - accuracy: 0.9000 - val_loss: 0.8955 - val_accuracy: 0.7308\n",
      "Epoch 10/15\n",
      "100/100 [==============================] - 2s 16ms/sample - loss: 0.2018 - accuracy: 0.9200 - val_loss: 1.0565 - val_accuracy: 0.6923\n",
      "Epoch 11/15\n",
      "100/100 [==============================] - 2s 17ms/sample - loss: 0.3163 - accuracy: 0.8700 - val_loss: 0.9132 - val_accuracy: 0.6154\n",
      "Epoch 12/15\n",
      "100/100 [==============================] - 1s 15ms/sample - loss: 0.2246 - accuracy: 0.8600 - val_loss: 1.0120 - val_accuracy: 0.6538\n",
      "Epoch 13/15\n",
      "100/100 [==============================] - 2s 15ms/sample - loss: 0.1245 - accuracy: 0.9700 - val_loss: 1.0234 - val_accuracy: 0.6923\n",
      "Epoch 14/15\n",
      "100/100 [==============================] - 2s 15ms/sample - loss: 0.0567 - accuracy: 0.9800 - val_loss: 1.0738 - val_accuracy: 0.6923\n",
      "Epoch 15/15\n",
      "100/100 [==============================] - 1s 15ms/sample - loss: 0.0393 - accuracy: 0.9900 - val_loss: 1.3231 - val_accuracy: 0.6538\n"
     ]
    }
   ],
   "source": [
    "history = model.fit(X, y, batch_size=8, epochs=15, validation_split=0.2)"
   ]
  },
  {
   "cell_type": "code",
   "execution_count": null,
   "metadata": {},
   "outputs": [],
   "source": []
  },
  {
   "cell_type": "code",
   "execution_count": 12,
   "metadata": {},
   "outputs": [
    {
     "data": {
      "text/plain": [
       "<matplotlib.legend.Legend at 0x1bd3582cf48>"
      ]
     },
     "execution_count": 12,
     "metadata": {},
     "output_type": "execute_result"
    },
    {
     "data": {
      "image/png": "[encoded data removed]",
      "text/plain": [
       "<Figure size 432x288 with 1 Axes>"
      ]
     },
     "metadata": {
      "needs_background": "light"
     },
     "output_type": "display_data"
    }
   ],
   "source": [
    "plt.figure(1)\n",
    "plt.plot(history.history['accuracy'])\n",
    "plt.plot(history.history['val_accuracy'])\n",
    "plt.title('model accuracy')\n",
    "plt.ylabel('accuracy')\n",
    "plt.xlabel('epoch')\n",
    "plt.legend(['train', 'validation'], loc='upper left')"
   ]
  },
  {
   "cell_type": "code",
   "execution_count": 13,
   "metadata": {},
   "outputs": [],
   "source": [
    "\n",
    "\n",
    "def prepare(path_to_img):\n",
    "    \n",
    "    \n",
    "    img = tf.io.read_file(path_to_img)\n",
    "    img = tf.image.decode_image(img, channels=3)\n",
    "    img = tf.image.convert_image_dtype(img, tf.float32)\n",
    "    img = tf.image.rgb_to_grayscale(img,name=None)\n",
    "    img = tf.image.resize(img, [90,90])\n",
    "    img = img[tf.newaxis, :]\n",
    "    \n",
    "    return img"
   ]
  },
  {
   "cell_type": "code",
   "execution_count": null,
   "metadata": {},
   "outputs": [],
   "source": []
  },
  {
   "cell_type": "code",
   "execution_count": 26,
   "metadata": {},
   "outputs": [
    {
     "name": "stdout",
     "output_type": "stream",
     "text": [
      "[7.455719e-09, 0.0014881379, 0.99851185]\n",
      "palm\n"
     ]
    }
   ],
   "source": [
    "image='Documents/data/pred/7.jpg'\n",
    "\n",
    "image=prepare(image)\n",
    "prediction = model.predict([image])\n",
    "prediction = list(prediction[0])\n",
    "print(prediction)\n",
    "if(max(prediction)<0.50):\n",
    "    print('others')\n",
    "else:\n",
    "print(CATEGORIES[prediction.index(max(prediction))])\n"
   ]
  },
  {
   "cell_type": "code",
   "execution_count": null,
   "metadata": {},
   "outputs": [],
   "source": []
  },
  {
   "cell_type": "code",
   "execution_count": null,
   "metadata": {},
   "outputs": [],
   "source": []
  }
 ],
 "metadata": {
  "kernelspec": {
   "display_name": "Python 3",
   "language": "python",
   "name": "python3"
  },
  "language_info": {
   "codemirror_mode": {
    "name": "ipython",
    "version": 3
   },
   "file_extension": ".py",
   "mimetype": "text/x-python",
   "name": "python",
   "nbconvert_exporter": "python",
   "pygments_lexer": "ipython3",
   "version": "3.7.4"
  }
 },
 "nbformat": 4,
 "nbformat_minor": 2
}
